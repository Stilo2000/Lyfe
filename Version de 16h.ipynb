{
 "cells": [
  {
   "cell_type": "markdown",
   "id": "9f579a20",
   "metadata": {},
   "source": [
    "# Lyfe - Une certaine définition du vivant"
   ]
  },
  {
   "cell_type": "markdown",
   "id": "b9e5d907",
   "metadata": {},
   "source": [
    "Projet informatique mené par le Grand Vass et le modeste Till dans le cadre de l'UE \"Projet numérique\" pendant l'année scolaire 2021-2022"
   ]
  },
  {
   "cell_type": "markdown",
   "id": "704548b3",
   "metadata": {},
   "source": [
    "# Définition du problème"
   ]
  },
  {
   "cell_type": "markdown",
   "id": "e238e273",
   "metadata": {},
   "source": [
    "## Introduction"
   ]
  },
  {
   "cell_type": "markdown",
   "id": "b07dc204",
   "metadata": {},
   "source": [
    "Nous cherchons dans ce projet à reproduire l'emergence et le comportement de structure bien connus de la nature : les motifs de Turing. Ces motifs nous sont familiers, on les retrouve par exemple sur le poisson globe-géant, la fourrure d'un léopard ou encore sur certains coquillages. L'origine de ces motifs très réguliers n'est pas encore parfaitement comprise car elle repose sur des mécanismes biologique complexe : la morphogénèse, la différenciation, etc. Néanmoins, le mathématician Alan Turing proposa en 1952 dans son essai \"The Chemical Basis of Morphogenesis\" une première explication. Il suggère une modélisation thermochimique simple à ce phénomène. Sous ce prisme, il démontre que les motifs de Turing émergent naturellement comme solution des équations de réactions-diffusions. Nous allons tenter de résoudre ces équations pour visualiser ces motifs.\n",
    "\n",
    "<img src=\"globe.png\"  width=\"1000\" />"
   ]
  },
  {
   "cell_type": "markdown",
   "id": "7f2571da",
   "metadata": {},
   "source": [
    "## Modélisation Théorique Succinte"
   ]
  },
  {
   "cell_type": "markdown",
   "id": "4b0aaf98",
   "metadata": {},
   "source": [
    "En réalité, les équations de diffusion-réactions sont une grande classe d'équations aux dérivées partielles et nous n'allons pas chercher à résoudre chacun d'elle. On retrouve parmi elle le système d'équation de Gray-Scott dont nous rappelons la construction :considérons 2 espèces chimique V et U (et une troisième espèce P qui est un déchet de réaction). Les équations chimique qui régissent leurs évolution sont les suivantes :"
   ]
  },
  {
   "cell_type": "code",
   "execution_count": 9,
   "id": "f85fabde",
   "metadata": {
    "hide_input": true
   },
   "outputs": [
    {
     "data": {
      "text/latex": [
       "\\begin{align}\n",
       "U + 2V & \\rightarrow 3V \\\\\n",
       "V & \\rightarrow P \\\\\n",
       "\\end{align} \n"
      ],
      "text/plain": [
       "<IPython.core.display.Latex object>"
      ]
     },
     "metadata": {},
     "output_type": "display_data"
    }
   ],
   "source": [
    "%%latex\n",
    "\\begin{align}\n",
    "U + 2V & \\rightarrow 3V \\\\\n",
    "V & \\rightarrow P \\\\\n",
    "\\end{align} "
   ]
  },
  {
   "cell_type": "markdown",
   "id": "84f224d1",
   "metadata": {},
   "source": [
    "De ces équations nous déduisons l'évolution dans le temps et dans l'espace des espèces U et V, ce sont les équations de Gray-Scott."
   ]
  },
  {
   "cell_type": "code",
   "execution_count": 8,
   "id": "52c7f316",
   "metadata": {
    "tags": [
     " remove-input"
    ]
   },
   "outputs": [
    {
     "data": {
      "text/latex": [
       "\\begin{align}\n",
       "\\frac{\\partial U}{\\partial t} & = D_{u}\\Delta U - UV^{2} + F(1-U)\\\\\n",
       "\\frac{\\partial V}{\\partial t} & = D_{v}\\Delta V + UV^{2} - (F+k)V\\\\\n",
       "\\end{align} \n"
      ],
      "text/plain": [
       "<IPython.core.display.Latex object>"
      ]
     },
     "metadata": {},
     "output_type": "display_data"
    }
   ],
   "source": [
    "%%latex\n",
    "\\begin{align}\n",
    "\\frac{\\partial U}{\\partial t} & = D_{u}\\Delta U - UV^{2} + F(1-U)\\\\\n",
    "\\frac{\\partial V}{\\partial t} & = D_{v}\\Delta V + UV^{2} - (F+k)V\\\\\n",
    "\\end{align} "
   ]
  },
  {
   "cell_type": "markdown",
   "id": "ca6efbe8",
   "metadata": {},
   "source": [
    "Sans rentrer dans la construction de ces équations, nous pouvons identifier 2 phénomènes couplés dans ces équations. D'une part les phénomènes de diffusion thermique reconnaissable par la présence de l'opérateur Laplacien $\\Delta$ et des coefficients de diffusion $D_{u}$ et $D_{v}$. D'autre part des phénomènes de cinétique chimique caractérisés par le coefficients d'annihilation $k$ et de création $F$."
   ]
  },
  {
   "cell_type": "markdown",
   "id": "bec5f72d",
   "metadata": {},
   "source": [
    "## Objectif du projet"
   ]
  },
  {
   "cell_type": "markdown",
   "id": "c7fd1143",
   "metadata": {},
   "source": [
    "Ces équations, de part leurs structures, n'ont pas de solution analytique. L'emploi d'une résolution numérique semble alors justifiée. Le chercheur John E. Pearson, du laboratoire national de Los Alamos, proposa dans un article qui fait désormais référence, des résolutions de ces équations pour différents paramètres $F$ et $k$. Il dresse notamment un \"diagramme de phase\" qui repertorie quels motifs régulier émergent en fonction de ces paramètres. Concrètement, notre objectif sera d'obtenir les mêmes résultats. Nous chercherons dans un second temps à analyser tout ces motifs pour essayer de trouver des comportements généraux caractéristiques. En d'autres termes, notre rapport se concentrera dans un premier temps sur l'implémentation de la résolution numérique et dans un second temps de l'analyse physique de nos simulations."
   ]
  },
  {
   "cell_type": "markdown",
   "id": "4c4ccebb",
   "metadata": {},
   "source": [
    "# Exécution du projet"
   ]
  },
  {
   "cell_type": "markdown",
   "id": "657f8d6a",
   "metadata": {},
   "source": [
    "## Outils utilisés"
   ]
  },
  {
   "cell_type": "code",
   "execution_count": 2,
   "id": "427ca09f",
   "metadata": {},
   "outputs": [],
   "source": [
    "import numpy as np\n",
    "import matplotlib.pyplot as plt\n",
    "from PyQt5 import QtWidgets\n",
    "import time\n",
    "import datetime\n",
    "import os\n",
    "import scipy.optimize as opt"
   ]
  },
  {
   "cell_type": "markdown",
   "id": "423579cf",
   "metadata": {},
   "source": [
    "Notre projet se portait très bien à une résolution par approche procédurale. Notre code appelera à tour de rôle les fonctions qui lui permettront de calculer et d'afficher les résultats souhaités. Nous utilisons l'arsenal usuel de librairies python:\n",
    "- Numpy et scipy.optimize pour les calculs :\n",
    "- Matplotlib et PyQt5 pour l'affichage et l'animation\n",
    "- Time, datetime et os pour l'organisation des données récoltées\n",
    "\n",
    "Explicitions désormais les différentes fonctions que nous avons utilisés."
   ]
  },
  {
   "cell_type": "markdown",
   "id": "9852d9ea",
   "metadata": {},
   "source": [
    "## La fonction opérateur laplacien $\\Delta$"
   ]
  },
  {
   "cell_type": "code",
   "execution_count": 5,
   "id": "f217e999",
   "metadata": {},
   "outputs": [],
   "source": [
    "def lap(M, dx, dy):\n",
    "    \"\"\"Permet d'obtenir le laplacien discret de la matrice M\"\"\"\n",
    "    L = - (2*M)/(dx**2) - (2*M)/(dy**2)\n",
    "    L += (np.roll(M, (0,-1), (0,1)))/(dx**2) # voisin de droite\n",
    "    L += (np.roll(M, (0,+1), (0,1)))/(dx**2) # voisin de gauche\n",
    "    L += (np.roll(M, (-1,0), (0,1)))/(dy**2) # voisin du dessus\n",
    "    L += (np.roll(M, (+1,0), (0,1)))/(dy**2) # voisin du dessous\n",
    "    return L\n"
   ]
  },
  {
   "cell_type": "markdown",
   "id": "0eb7040a",
   "metadata": {},
   "source": [
    "Le Laplacien est un opérateur différentiel d'ordre 2. Nous avons l'avons implementé à partir de sa définition par la méthode des différences finies. La fonction va dans un premier temps retrancher dans les deux directions par la résolution spatiale. A chaque appel, le laplacien sera calculé en repoussant les bords de la matrice grâce aux fonctions $\\texttt{np.roll}$. On évite ainsi les effets de bors.\n",
    "Nous avions tenté une première implémentation du laplacian en utilisant des combinaisons de $\\texttt{np.grad}$ et en reconstruisant l'identité $ \\Delta = \\overrightarrow{\\nabla} \\cdot \\overrightarrow{\\nabla} $\n",
    "Pour le reste, je suis en train de décortiquer internet, mais je suis pas certain de trouver une réponse convaincante..."
   ]
  },
  {
   "cell_type": "markdown",
   "id": "a9fb9e05",
   "metadata": {},
   "source": [
    "## Les équations de Gray-Scott\n"
   ]
  },
  {
   "cell_type": "code",
   "execution_count": 6,
   "id": "e3121bdc",
   "metadata": {},
   "outputs": [],
   "source": [
    "def G_S(u, v, f, k, Du, Dv, dx, dy):\n",
    "    \"\"\"Renvoie les valeurs des derivees temporelles des concentrations en U et␣\n",
    "    ,→V selon le modele de reaction-diffusion de Gray-Scott\"\"\"\n",
    "    \"\"\"u et v sont des matrices contenant les concentrations en U et V (en mol.\n",
    "    ,→L¹), f est le \"feed-rate\"(en s¹), k (en s¹) est le taux de conversion de U␣\n",
    "    ,→(en P, inerte), et Du (resp. Dv) est le coefficient de diffusion de U (resp.␣\n",
    "    ,→V) (en m².s¹).\"\"\"\n",
    "    u_dot = Du * lap(u, dx, dy) - u * v**2 + f * (1-u)\n",
    "    v_dot = Dv * lap(v, dx, dy) + u * v**2 - (f + k) * v\n",
    "    return (u_dot, v_dot)"
   ]
  },
  {
   "cell_type": "markdown",
   "id": "97cdffcc",
   "metadata": {},
   "source": [
    "Il s'agit de la fonction centrale de notre programme puisqu'elle implémente les équations de gray-scott présentées en première partie de ce rapport. Il ne s'agit en rien d'autre que les expressions mathématiques de ces dernières. Cette fonction sera ensuite appelée dans un schéma de résolution de type Euler."
   ]
  },
  {
   "cell_type": "code",
   "execution_count": null,
   "id": "2b84cb75",
   "metadata": {},
   "outputs": [],
   "source": []
  }
 ],
 "metadata": {
  "celltoolbar": "Éditer les Méta-Données",
  "hide_input": false,
  "kernelspec": {
   "display_name": "Python 3 (ipykernel)",
   "language": "python",
   "name": "python3"
  },
  "language_info": {
   "codemirror_mode": {
    "name": "ipython",
    "version": 3
   },
   "file_extension": ".py",
   "mimetype": "text/x-python",
   "name": "python",
   "nbconvert_exporter": "python",
   "pygments_lexer": "ipython3",
   "version": "3.9.7"
  }
 },
 "nbformat": 4,
 "nbformat_minor": 5
}
