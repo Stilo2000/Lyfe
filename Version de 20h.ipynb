{
 "cells": [
  {
   "cell_type": "markdown",
   "id": "9f579a20",
   "metadata": {},
   "source": [
    "# Lyfe - Une certaine définition du vivant"
   ]
  },
  {
   "cell_type": "markdown",
   "id": "b9e5d907",
   "metadata": {},
   "source": [
    "Projet informatique mené par le Grand Vass et le modeste Till dans le cadre de l'UE \"Projet numérique\" pendant l'année scolaire 2021-2022. Ce rapport est rédigé sur Jupyter Notebook et donc interactif, n'oubliez pas d'executer les cellules dans l'ordre !"
   ]
  },
  {
   "cell_type": "markdown",
   "id": "704548b3",
   "metadata": {},
   "source": [
    "# Définition du problème"
   ]
  },
  {
   "cell_type": "markdown",
   "id": "e238e273",
   "metadata": {},
   "source": [
    "## Introduction"
   ]
  },
  {
   "cell_type": "markdown",
   "id": "b07dc204",
   "metadata": {},
   "source": [
    "Nous cherchons dans ce projet à reproduire l'emergence et le comportement de structure bien connus de la nature : les motifs de Turing. Ces motifs nous sont familiers, on les retrouve par exemple sur le poisson globe-géant, la fourrure d'un léopard ou encore sur certains coquillages. L'origine de ces motifs très réguliers n'est pas encore parfaitement comprise car elle repose sur des mécanismes biologique complexe : la morphogénèse, la différenciation, etc. Néanmoins, le mathématician Alan Turing proposa en 1952 dans son essai \"The Chemical Basis of Morphogenesis\" une première explication. Il suggère une modélisation thermochimique simple à ce phénomène. Sous ce prisme, il démontre que les motifs de Turing émergent naturellement comme solution des équations de réactions-diffusions. Nous allons tenter de résoudre ces équations pour visualiser ces motifs.\n",
    "\n",
    "<img src=\"globe.png\"  width=\"1000\" />"
   ]
  },
  {
   "cell_type": "markdown",
   "id": "7f2571da",
   "metadata": {},
   "source": [
    "## Modélisation Théorique Succinte"
   ]
  },
  {
   "cell_type": "markdown",
   "id": "4b0aaf98",
   "metadata": {},
   "source": [
    "En réalité, les équations de diffusion-réactions sont une grande classe d'équations aux dérivées partielles et nous n'allons pas chercher à résoudre chacun d'elle. On retrouve parmi elle le système d'équation de Gray-Scott dont nous rappelons la construction :considérons 2 espèces chimique V et U (et une troisième espèce P qui est un déchet de réaction). Les équations chimique qui régissent leurs évolution sont les suivantes :"
   ]
  },
  {
   "cell_type": "code",
   "execution_count": 9,
   "id": "f85fabde",
   "metadata": {
    "hide_input": true
   },
   "outputs": [
    {
     "data": {
      "text/latex": [
       "\\begin{align}\n",
       "U + 2V & \\rightarrow 3V \\\\\n",
       "V & \\rightarrow P \\\\\n",
       "\\end{align} \n"
      ],
      "text/plain": [
       "<IPython.core.display.Latex object>"
      ]
     },
     "metadata": {},
     "output_type": "display_data"
    }
   ],
   "source": [
    "%%latex\n",
    "\\begin{align}\n",
    "U + 2V & \\rightarrow 3V \\\\\n",
    "V & \\rightarrow P \\\\\n",
    "\\end{align} "
   ]
  },
  {
   "cell_type": "markdown",
   "id": "84f224d1",
   "metadata": {},
   "source": [
    "De ces équations nous déduisons l'évolution dans le temps et dans l'espace des espèces U et V, ce sont les équations de Gray-Scott."
   ]
  },
  {
   "cell_type": "code",
   "execution_count": 8,
   "id": "52c7f316",
   "metadata": {
    "tags": [
     " remove-input"
    ]
   },
   "outputs": [
    {
     "data": {
      "text/latex": [
       "\\begin{align}\n",
       "\\frac{\\partial U}{\\partial t} & = D_{u}\\Delta U - UV^{2} + F(1-U)\\\\\n",
       "\\frac{\\partial V}{\\partial t} & = D_{v}\\Delta V + UV^{2} - (F+k)V\\\\\n",
       "\\end{align} \n"
      ],
      "text/plain": [
       "<IPython.core.display.Latex object>"
      ]
     },
     "metadata": {},
     "output_type": "display_data"
    }
   ],
   "source": [
    "%%latex\n",
    "\\begin{align}\n",
    "\\frac{\\partial U}{\\partial t} & = D_{u}\\Delta U - UV^{2} + F(1-U)\\\\\n",
    "\\frac{\\partial V}{\\partial t} & = D_{v}\\Delta V + UV^{2} - (F+k)V\\\\\n",
    "\\end{align} "
   ]
  },
  {
   "cell_type": "markdown",
   "id": "ca6efbe8",
   "metadata": {},
   "source": [
    "Sans rentrer dans la construction de ces équations, nous pouvons identifier 2 phénomènes couplés dans ces équations. D'une part les phénomènes de diffusion thermique reconnaissable par la présence de l'opérateur Laplacien $\\Delta$ et des coefficients de diffusion $D_{u}$ et $D_{v}$. D'autre part des phénomènes de cinétique chimique caractérisés par le coefficients d'annihilation $k$ et de création $F$."
   ]
  },
  {
   "cell_type": "markdown",
   "id": "bec5f72d",
   "metadata": {},
   "source": [
    "## Objectif du projet"
   ]
  },
  {
   "cell_type": "markdown",
   "id": "c7fd1143",
   "metadata": {},
   "source": [
    "Ces équations, de part leurs structures, n'ont pas de solution analytique. L'emploi d'une résolution numérique semble alors justifiée. Le chercheur John E. Pearson, du laboratoire national de Los Alamos, proposa dans un article qui fait désormais référence, des résolutions de ces équations pour différents paramètres $F$ et $k$. Il dresse notamment un \"diagramme de phase\" qui repertorie quels motifs régulier émergent en fonction de ces paramètres. Concrètement, notre objectif sera d'obtenir les mêmes résultats. Nous chercherons dans un second temps à analyser tout ces motifs pour essayer de trouver des comportements généraux caractéristiques. En d'autres termes, notre rapport se concentrera dans un premier temps sur l'implémentation de la résolution numérique et dans un second temps de l'analyse physique de nos simulations."
   ]
  },
  {
   "cell_type": "markdown",
   "id": "4c4ccebb",
   "metadata": {},
   "source": [
    "# Exécution du projet"
   ]
  },
  {
   "cell_type": "markdown",
   "id": "657f8d6a",
   "metadata": {},
   "source": [
    "## Outils utilisés"
   ]
  },
  {
   "cell_type": "code",
   "execution_count": 3,
   "id": "427ca09f",
   "metadata": {},
   "outputs": [],
   "source": [
    "import numpy as np\n",
    "import matplotlib.pyplot as plt\n",
    "from PyQt5 import QtWidgets\n",
    "import time\n",
    "import datetime\n",
    "import os\n",
    "import scipy.optimize as opt"
   ]
  },
  {
   "cell_type": "markdown",
   "id": "423579cf",
   "metadata": {},
   "source": [
    "Notre projet se portait très bien à une résolution par approche procédurale. Notre code appelera à tour de rôle les fonctions qui lui permettront de calculer et d'afficher les résultats souhaités. Nous utilisons l'arsenal usuel de librairies python:\n",
    "- Numpy et scipy.optimize pour les calculs :\n",
    "- Matplotlib et PyQt5 pour l'affichage et l'animation\n",
    "- Time, datetime et os pour l'organisation des données récoltées\n",
    "\n",
    "Explicitions désormais les différentes fonctions que nous avons utilisés."
   ]
  },
  {
   "cell_type": "markdown",
   "id": "9852d9ea",
   "metadata": {},
   "source": [
    "### La fonction opérateur laplacien $\\Delta$"
   ]
  },
  {
   "cell_type": "code",
   "execution_count": 5,
   "id": "f217e999",
   "metadata": {},
   "outputs": [],
   "source": [
    "def lap(M, dx, dy):\n",
    "    \"\"\"Permet d'obtenir le laplacien discret de la matrice M\"\"\"\n",
    "    L = - (2*M)/(dx**2) - (2*M)/(dy**2)\n",
    "    L += (np.roll(M, (0,-1), (0,1)))/(dx**2) # voisin de droite\n",
    "    L += (np.roll(M, (0,+1), (0,1)))/(dx**2) # voisin de gauche\n",
    "    L += (np.roll(M, (-1,0), (0,1)))/(dy**2) # voisin du dessus\n",
    "    L += (np.roll(M, (+1,0), (0,1)))/(dy**2) # voisin du dessous\n",
    "    return L\n"
   ]
  },
  {
   "cell_type": "markdown",
   "id": "0eb7040a",
   "metadata": {},
   "source": [
    "Le Laplacien est un opérateur différentiel d'ordre 2. Nous avons l'avons implementé à partir de sa définition par la méthode des différences finies. La fonction va dans un premier temps retrancher dans les deux directions par la résolution spatiale. A chaque appel, le laplacien sera calculé en repoussant les bords de la matrice grâce aux fonctions $\\texttt{np.roll}$. On évite ainsi les effets de bors.\n",
    "Nous avions tenté une première implémentation du laplacian en utilisant des combinaisons de $\\texttt{np.grad}$ et en reconstruisant l'identité $ \\Delta = \\overrightarrow{\\nabla} \\cdot \\overrightarrow{\\nabla} $\n",
    "Pour le reste, je suis en train de décortiquer internet, mais je suis pas certain de trouver une réponse convaincante..."
   ]
  },
  {
   "cell_type": "markdown",
   "id": "a9fb9e05",
   "metadata": {},
   "source": [
    "### Les équations de Gray-Scott"
   ]
  },
  {
   "cell_type": "code",
   "execution_count": 6,
   "id": "e3121bdc",
   "metadata": {},
   "outputs": [],
   "source": [
    "def G_S(u, v, f, k, Du, Dv, dx, dy):\n",
    "    \"\"\"Renvoie les valeurs des derivees temporelles des concentrations en U et␣\n",
    "    ,→V selon le modele de reaction-diffusion de Gray-Scott\"\"\"\n",
    "    \"\"\"u et v sont des matrices contenant les concentrations en U et V (en mol.\n",
    "    ,→L¹), f est le \"feed-rate\"(en s¹), k (en s¹) est le taux de conversion de U␣\n",
    "    ,→(en P, inerte), et Du (resp. Dv) est le coefficient de diffusion de U (resp.␣\n",
    "    ,→V) (en m².s¹).\"\"\"\n",
    "    u_dot = Du * lap(u, dx, dy) - u * v**2 + f * (1-u)\n",
    "    v_dot = Dv * lap(v, dx, dy) + u * v**2 - (f + k) * v\n",
    "    return (u_dot, v_dot)"
   ]
  },
  {
   "cell_type": "markdown",
   "id": "97cdffcc",
   "metadata": {},
   "source": [
    "Il s'agit de la fonction centrale de notre programme puisqu'elle implémente les équations de gray-scott présentées en première partie de ce rapport. Il ne s'agit en rien d'autre que les expressions mathématiques de ces dernières. Cette fonction sera ensuite appelée dans un schéma de résolution de type Euler. Nous reviendrons dans un autre temps sur cette méthode de résolution."
   ]
  },
  {
   "cell_type": "markdown",
   "id": "0b10f973",
   "metadata": {},
   "source": [
    "### Fonction de régréssion polynomiale"
   ]
  },
  {
   "cell_type": "code",
   "execution_count": 6,
   "id": "0b3ba145",
   "metadata": {},
   "outputs": [],
   "source": [
    "def courbe_fit(t,A,B, C):\n",
    "    return A*t**0.5 + B*t"
   ]
  },
  {
   "cell_type": "markdown",
   "id": "f5a933a9",
   "metadata": {},
   "source": [
    "Fonction de tracé. Est-ce qu'on mets pas ce paragraphe dans la 3eme section à propos du traitement ? "
   ]
  },
  {
   "cell_type": "markdown",
   "id": "411e1ac2",
   "metadata": {},
   "source": [
    "### Introduction des variables"
   ]
  },
  {
   "cell_type": "code",
   "execution_count": 5,
   "id": "35ae92f1",
   "metadata": {},
   "outputs": [],
   "source": [
    "d = str(datetime.datetime.today())\n",
    "date_heure = d[:10]+'__' + d[-15:-13]+'_' + d[-12:-10]+'_'+d[-9:-7]\n",
    "dt = 1\n",
    "duree = 10000\n",
    "Npas = int(duree / dt) # nombre de pas\n",
    "Nx = 512\n",
    "Ny = 512\n",
    "dx = 1e-2\n",
    "dy = 1e-2\n",
    "Lx = dx * Nx # espace selon x\n",
    "Ly = dy * Ny # espace selon y\n",
    "F = 0.0507\n",
    "k = 0.0617\n",
    "Ds = 2e-5\n",
    "Dg = 1e-5\n",
    "loc, scale = 0, 0.05\n",
    "N_disp_save = 1000\n",
    "N_calc_mean = 1000\n",
    "save_ok = 1\n",
    "circle_ok = 1\n",
    "tracking_ok = 1"
   ]
  },
  {
   "cell_type": "markdown",
   "id": "ab61d252",
   "metadata": {},
   "source": [
    "Afin de s'inscrire complètement dans la démarche du physicien numéricien, il était important de rendre l'exploitation de notre code la plus autonome possible. Nous devions faire en sorte que notre programme puisse fonctionner sans avoir à ouvrir le code dans un éditeur. Autrement dit, nous devions pouvoir récupérer les données uniquement en éxécutant le code et en insérant un fichier de données externe. Les lignes de codes précédentes remplissent ce role. Dans notre routine, il nous suffisait simplement de modifier ces données, enregistrées en $\\texttt{.txt}$ , d'une simulation à l'autre."
   ]
  },
  {
   "cell_type": "markdown",
   "id": "fa52b1d1",
   "metadata": {},
   "source": [
    "### Initialisation"
   ]
  },
  {
   "cell_type": "code",
   "execution_count": 10,
   "id": "1ae03b8a",
   "metadata": {},
   "outputs": [],
   "source": [
    "# On initialise le canevas:\n",
    "xx = np.linspace(0, Lx, Nx)\n",
    "yy = np.linspace(0, Ly, Ny)\n",
    "# On initialise deux tableaux portant chacun les valeurs, en tout point, des concentrations en U et en V\n",
    "conc_S = np.ones((Nx, Ny))\n",
    "conc_G = np.zeros((Nx, Ny))\n",
    "# On perturbe cet etat de depart, en changeant la concentration en V d'un carré␣au centre, de cote 2d, \n",
    "# que l'on perturbe avec un bruit blanc gaussien\n",
    "d = 10\n",
    "conc_S[Nx//2 - d: Nx //2 + d, Ny//2 - d: Ny //2 + d] = 0.50\n",
    "conc_G[Nx//2 - d: Nx //2 + d, Ny//2 - d: Ny //2 + d] = 0.25 + np.random.normal(loc, scale, size=(2*d, 2*d))\n",
    "# perturbation gaussienne\n",
    "#On crée un environement dans lequel les c.i. sont parfaitement symétriques\n",
    "conc_S_NP = np.ones((Nx, Ny))\n",
    "conc_G_NP = np.zeros((Nx, Ny))\n",
    "conc_S_NP[Nx//2 - d: Nx //2 + d, Ny//2 - d: Ny //2 + d] = 0.50\n",
    "conc_G_NP[Nx//2 - d: Nx //2 + d, Ny//2 - d: Ny //2 + d] = 0.25\n",
    "#On crée un liste qui stockera les moyennes de la valeur absolue des différences entres les tableaux perturbés et non perturbés\n",
    "deviation=np.zeros(Npas)\n",
    "#On calcule le coût en temps des différentes opérations\n",
    "temps_total = 0\n",
    "temps_calcul = 0\n",
    "temps_generation = 0\n",
    "S = []\n",
    "G = []\n",
    "theta = np.linspace(0, np.pi*2, 100)\n",
    "rayons = []\n"
   ]
  },
  {
   "cell_type": "markdown",
   "id": "3d89b96b",
   "metadata": {},
   "source": [
    "On génère ici tout les objets qui nous serviront pour nos simulations. Physiquement, $\\texttt{cons_S}$ et $\\texttt{cons_G}$ correspondent aux espèces chimiques dont on va calculer la répartition dans l'espace au cours du temps. Initialement, on place ces deux espèces au centre de notre aire d'intêret. On choisi ensuite de perturber une des deux espèces par un bruit Gaussien pour créer un déséquilibre. Ce déséquilibre lance la réaction qui sera calculé par les équations de Gray-Scott. "
   ]
  },
  {
   "cell_type": "markdown",
   "id": "9f3e926b",
   "metadata": {},
   "source": [
    "### Evolution et création des données"
   ]
  },
  {
   "cell_type": "code",
   "execution_count": 11,
   "id": "f2b4fbe1",
   "metadata": {},
   "outputs": [
    {
     "ename": "SyntaxError",
     "evalue": "invalid syntax (Temp/ipykernel_76888/1067656890.py, line 1)",
     "output_type": "error",
     "traceback": [
      "\u001b[1;36m  File \u001b[1;32m\"C:\\Users\\tillp\\AppData\\Local\\Temp/ipykernel_76888/1067656890.py\"\u001b[1;36m, line \u001b[1;32m1\u001b[0m\n\u001b[1;33m    insérer le beau code complet ici\u001b[0m\n\u001b[1;37m            ^\u001b[0m\n\u001b[1;31mSyntaxError\u001b[0m\u001b[1;31m:\u001b[0m invalid syntax\n"
     ]
    }
   ],
   "source": [
    "insérer le beau code complet ici"
   ]
  },
  {
   "cell_type": "markdown",
   "id": "8e926338",
   "metadata": {},
   "source": [
    "Cette partie du code est la plus essentielle. C'est ici que sont calculés, représentés et sauvegardés les évolution physique de nos espèces. On effectue la même suite d'opérations :\n",
    "\n",
    "- Résolution des équations de Gray-Scott par la méthode d'euler\n",
    "- Sauvegarde des images tout les $\\texttt{N_disp_save}$ pas de temps\n",
    "- Traitement des données : Evolution du rayon moyen et/ou tracé de la transformée de Fourrier 2D\n",
    "- Affichage et animation des données et du temps de calcul entre chaque itération"
   ]
  },
  {
   "cell_type": "markdown",
   "id": "628a9ec5",
   "metadata": {},
   "source": [
    "Dernière partie à insérer et commenter sur le rayon.\n"
   ]
  },
  {
   "cell_type": "markdown",
   "id": "491ddff7",
   "metadata": {},
   "source": [
    "# Autour de notre programme"
   ]
  },
  {
   "cell_type": "markdown",
   "id": "8cb3f6b7",
   "metadata": {},
   "source": [
    "## La résolution par la méthode d'Euler"
   ]
  },
  {
   "cell_type": "markdown",
   "id": "d200c3ac",
   "metadata": {},
   "source": [
    "Nous l'avons vu, le choix que nous avons adopté était la méthode d'Euler car c'est un schéma de résolution très facile à implémenter. Pour autant, en programmation, rien n'est gagné d'avance. Il est arrivé à plusieurs reprises que notre programme cesse de fonctionner au bout de quelques itérations. Il nous a fallu sonder davantages les équations que nous tentions de résoudre pour comprendre d'ou venait ce phénomène. Il est important de comprendre que le choix du pas de temps et d'espace est corrélé et qu'il existe un critère de stabilité numérique pour choisir ces grandeurs. Cependant, nos équations étant non linéaire et couplée, déterminer l'expression de ce critère relevait davantages de l'analyse numérique que du coeur de notre projet.\n",
    "<br>\n",
    "Notre équation ressemblant fortement à une équation de la chaleur, nous avons trouvé judicieux d'utiliser le même critère de choix de ces pas de temps et d'espace pour notre programme.\n",
    "\n",
    "$\\begin{equation}\\Delta t \\leq \\frac{{\\Delta x}^{2}}{2 D_{U,V}}\\end{equation}$"
   ]
  },
  {
   "cell_type": "code",
   "execution_count": null,
   "id": "177e0693",
   "metadata": {},
   "outputs": [],
   "source": []
  },
  {
   "cell_type": "code",
   "execution_count": null,
   "id": "c03c2d3e",
   "metadata": {},
   "outputs": [],
   "source": []
  }
 ],
 "metadata": {
  "celltoolbar": "Éditer les Méta-Données",
  "hide_input": false,
  "kernelspec": {
   "display_name": "Python 3 (ipykernel)",
   "language": "python",
   "name": "python3"
  },
  "language_info": {
   "codemirror_mode": {
    "name": "ipython",
    "version": 3
   },
   "file_extension": ".py",
   "mimetype": "text/x-python",
   "name": "python",
   "nbconvert_exporter": "python",
   "pygments_lexer": "ipython3",
   "version": "3.9.7"
  }
 },
 "nbformat": 4,
 "nbformat_minor": 5
}
